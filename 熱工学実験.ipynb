{
  "nbformat": 4,
  "nbformat_minor": 0,
  "metadata": {
    "colab": {
      "name": "熱工学実験.ipynb",
      "provenance": [],
      "collapsed_sections": [],
      "authorship_tag": "ABX9TyMT+uLxEyxJLZgw13m3kLh2",
      "include_colab_link": true
    },
    "kernelspec": {
      "name": "python3",
      "display_name": "Python 3"
    }
  },
  "cells": [
    {
      "cell_type": "markdown",
      "metadata": {
        "id": "view-in-github",
        "colab_type": "text"
      },
      "source": [
        "<a href=\"https://colab.research.google.com/github/SHIO777/Controller/blob/master/%E7%86%B1%E5%B7%A5%E5%AD%A6%E5%AE%9F%E9%A8%93.ipynb\" target=\"_parent\"><img src=\"https://colab.research.google.com/assets/colab-badge.svg\" alt=\"Open In Colab\"/></a>"
      ]
    },
    {
      "cell_type": "code",
      "metadata": {
        "id": "YHBlE0oYWxJ3",
        "colab": {
          "base_uri": "https://localhost:8080/",
          "height": 397
        },
        "outputId": "d91f7a96-65ee-4cb1-a4bf-1819b5c1e7be"
      },
      "source": [
        "\n",
        "#スクショはcommand shift 3\n",
        "import numpy as np\n",
        "import math\n",
        "import matplotlib as mpl\n",
        "import matplotlib.pyplot as plt\n",
        "PI=math.pi\n",
        "D=0.02\n",
        "A=0.25*PI*D*D\n",
        "S=PI*D\n",
        "#物性値\n",
        "#１．タフピッチ銅(C1100)\n",
        "#密度：8940[kg/m^3]\n",
        "#等圧比熱：385[J/(kg・K)]\n",
        "#熱伝導率：391[W/(m・K)]\n",
        "#２．機械構造用炭素鋼(S45C)\n",
        "#密度：7850[kg/m^3]\n",
        "#等圧比熱：440[J/(kg・K)]\n",
        "#熱伝導率：41[W/(m・K)]\n",
        "#３．アルミ合金(A2017)\n",
        "#密度：2790[kg/m^3]\n",
        "#等圧比熱：900[J/(kg・K)]\n",
        "#熱伝導率：201[W/(m・K)]\n",
        "rho=8940\n",
        "c=385\n",
        "lam=391       #####################\n",
        "a=lam/(rho*c)\n",
        "L=.3\n",
        "NX=18\n",
        "#print(NX)\n",
        "x=[]\n",
        "DX=L/float(NX)\n",
        "for i in range(NX+1):\n",
        "    x.append(DX*i)\n",
        "TEND=1200      #####################\n",
        "NT=12000\n",
        "t=[]\n",
        "DT=TEND/float(NT)\n",
        "for i in range(NT+1):\n",
        "    t.append(DT*i)\n",
        "p=-20          ###################### ここはマイナス\n",
        "q=2000.0       #####################\n",
        "T0=30.3        #####################\n",
        "xheater=0.1\n",
        "h=35          #######################\n",
        "\n",
        "b= h/(rho*c)\n",
        "TEMP1=[]\n",
        "TEMP2=[]\n",
        "for i in range(NX+1):\n",
        "    TEMP1.append(T0)\n",
        "    TEMP2.append(T0)\n",
        "for i in range(NT):\n",
        "    for j in range(NX+1):\n",
        "        if j == 0:\n",
        "            TEMP2[j]=TEMP1[j]+((p*TEMP1[j]+q)*DT)/(PI*c*rho*D*xheater)\n",
        "        if 0 < j < NX:\n",
        "            TEMP2[j]=TEMP1[j]+a*(TEMP1[j-1]-2.*TEMP1[j]+TEMP1[j+1])*(DT)/(DX*DX)+b*(T0-0.5*(TEMP1[j+1]+TEMP1[j]))*(S/A)*DT\n",
        "        if j == NX:\n",
        "            TEMP2[j]=TEMP1[j]-a*(TEMP1[j]-TEMP1[j-1])*(DT)/(DX*DX)+b*(T0-0.5*(TEMP1[j]+TEMP1[j-1]))*(S/A)*DT+b*(T0-TEMP1[j])*(DT/DX)\n",
        "    #print('{:.2f}'.format(t[i+1]),\"sec\")\n",
        "    for j in range(NX+1):\n",
        "        TEMP1[j]=TEMP2[j]\n",
        "#print()\n",
        "print('{:.6g}'.format(t[i+1]),\"sec後の温度分布\")\n",
        "print (\"lam=\", lam) \n",
        "print (\"p=\",p) \n",
        "print(\"q=\",q)\n",
        "print(\"T0=\",T0)\n",
        "print(\"h=\",h)\n",
        "\n",
        "#for j in range(NX+1):\n",
        " #  print('{:.2f}'.format(x[j]),\" \",'{:.5f}'.format(TEMP1[j]))\n",
        "\n",
        "plt.figure(1)\n",
        "plt.xlim(0.,.3)\n",
        "plt.ylim(0.,100.)\n",
        "plt.yticks([0,10,20,30,40,50,60,70,80,90,100])\n",
        "plt.grid()\n",
        "plt.title('{:.2f}[sec]'.format(TEND))\n",
        "plt.xlabel(\"Distance[m]\")\n",
        "plt.ylabel(\"Temperature[deg]\")\n",
        "plt.plot(x,TEMP2)\n",
        "plt.show()\n"
      ],
      "execution_count": null,
      "outputs": [
        {
          "output_type": "stream",
          "text": [
            "1200 sec後の温度分布\n",
            "lam= 350\n",
            "p= -20\n",
            "q= 2000.0\n",
            "T0= 30.3\n",
            "h= 35\n"
          ],
          "name": "stdout"
        },
        {
          "output_type": "display_data",
          "data": {
            "image/png": "[encoded data removed]",
            "text/plain": [
              "<Figure size 432x288 with 1 Axes>"
            ]
          },
          "metadata": {
            "tags": [],
            "needs_background": "light"
          }
        }
      ]
    },
    {
      "cell_type": "code",
      "metadata": {
        "id": "OgkLew2-XGjX"
      },
      "source": [
        ""
      ],
      "execution_count": null,
      "outputs": []
    }
  ]
}